{
 "cells": [
  {
   "cell_type": "markdown",
   "id": "652febe8-73f0-44bb-b805-fc6df1cdb61d",
   "metadata": {},
   "source": [
    "# Task 6.4 - Supervised Machine Learning- Regression"
   ]
  },
  {
   "cell_type": "markdown",
   "id": "532ef0c5-9461-43c5-a28e-aed5d153f824",
   "metadata": {},
   "source": [
    "This notebook contains-"
   ]
  },
  {
   "cell_type": "raw",
   "id": "380f568f-19f1-4c07-ab69-73e609abfedf",
   "metadata": {},
   "source": [
    "Importing Libraries"
   ]
  },
  {
   "cell_type": "markdown",
   "id": "91ec06d0-fe9d-4247-8d19-bea08fa22f78",
   "metadata": {},
   "source": [
    "Loading Dataset\r\n"
   ]
  },
  {
   "cell_type": "markdown",
   "id": "ed6bf054-82be-4a03-9a70-534098046392",
   "metadata": {},
   "source": [
    "Cleaning Dataset"
   ]
  },
  {
   "cell_type": "markdown",
   "id": "da903036-0f5b-4d76-842d-59aacb1cd2b0",
   "metadata": {},
   "source": [
    "Exploring Data Visually trough Scatterplot"
   ]
  },
  {
   "cell_type": "markdown",
   "id": "a42c2b5c-7b93-454f-9a16-91ed7c874125",
   "metadata": {},
   "source": [
    "Reshaping the variables into NumPy arrays\r\n"
   ]
  },
  {
   "cell_type": "markdown",
   "id": "ea249ebb-df14-479f-b396-39d1b120a08f",
   "metadata": {},
   "source": [
    "Spliting the data into training and test sets"
   ]
  },
  {
   "cell_type": "markdown",
   "id": "a80e8441-a8e8-4ca2-881c-28b9bb2d6de6",
   "metadata": {},
   "source": [
    "Runing a linear regression"
   ]
  },
  {
   "cell_type": "markdown",
   "id": "0027337f-23fb-47d5-8f49-cabaae529bf0",
   "metadata": {},
   "source": [
    "Creating a plot of the regression line\r\n"
   ]
  },
  {
   "cell_type": "markdown",
   "id": "0a3dfdbc-22d9-4351-ae61-8db7f058f268",
   "metadata": {},
   "source": [
    "Checking model performance statistics"
   ]
  },
  {
   "cell_type": "markdown",
   "id": "6563b0b3-693b-41d6-8771-1eaeccc8ea6a",
   "metadata": {},
   "source": [
    "Comparing predicted and actual values"
   ]
  },
  {
   "cell_type": "markdown",
   "id": "a9e91684-6d22-4808-a2bc-bc140d022168",
   "metadata": {},
   "source": [
    "# Importing Libraries"
   ]
  },
  {
   "cell_type": "code",
   "execution_count": 2,
   "id": "c4d8f03b-74bf-4ecf-8569-a5d7c685ac2a",
   "metadata": {},
   "outputs": [],
   "source": [
    "import pandas as pd\n",
    "import numpy as np\n",
    "import seaborn as sns\n",
    "import matplotlib\n",
    "import matplotlib.pyplot as plt\n",
    "import os\n",
    "import sklearn\n",
    "from sklearn.model_selection import train_test_split\n",
    "from sklearn.linear_model import LinearRegression\n",
    "from sklearn.metrics import mean_squared_error, r2_score"
   ]
  },
  {
   "cell_type": "markdown",
   "id": "9a041feb-5576-4b4a-b0ff-7e11a7e2bf44",
   "metadata": {},
   "source": [
    "# Loading Dataset"
   ]
  },
  {
   "cell_type": "code",
   "execution_count": 3,
   "id": "bcf9edb1-6a09-41a6-99d3-2e76228b31f6",
   "metadata": {},
   "outputs": [
    {
     "name": "stdout",
     "output_type": "stream",
     "text": [
      "   Data As Of  Start Date    End Date    Year  Month    State  \\\n",
      "0  2023-09-24  2020-01-01  2020-01-31  2020.0    1.0  Alabama   \n",
      "1  2023-09-24  2020-02-01  2020-02-29  2020.0    2.0  Alabama   \n",
      "2  2023-09-24  2020-03-01  2020-03-31  2020.0    3.0  Alabama   \n",
      "3  2023-09-24  2020-04-01  2020-04-30  2020.0    4.0  Alabama   \n",
      "4  2023-09-24  2020-05-01  2020-05-31  2020.0    5.0  Alabama   \n",
      "\n",
      "        Condition Group                Condition ICD10_codes Age Group  \\\n",
      "0  Respiratory diseases  Influenza and pneumonia     J09-J18      0-24   \n",
      "1  Respiratory diseases  Influenza and pneumonia     J09-J18      0-24   \n",
      "2  Respiratory diseases  Influenza and pneumonia     J09-J18      0-24   \n",
      "3  Respiratory diseases  Influenza and pneumonia     J09-J18      0-24   \n",
      "4  Respiratory diseases  Influenza and pneumonia     J09-J18      0-24   \n",
      "\n",
      "   COVID-19 Deaths  Number of Mentions Flag  \n",
      "0              0.0                 0.0  NaN  \n",
      "1              0.0                 0.0  NaN  \n",
      "2              0.0                 0.0  NaN  \n",
      "3              0.0                 0.0  NaN  \n",
      "4              0.0                 0.0  NaN  \n"
     ]
    }
   ],
   "source": [
    "# Loading cleaned COVID-19 data\n",
    "path = r'C:\\Users\\Sanket\\Documents\\Achievement 6\\Data\\Prepared data\\Cleaned_Conditions_Contributing_to_COVID-19_Deaths_by_State_and_Age_Provisional_2020-2023.csv'\n",
    "df_covid = pd.read_csv(path)\n",
    "\n",
    "# Display the first few rows of the dataset\n",
    "print(df_covid.head())"
   ]
  },
  {
   "cell_type": "markdown",
   "id": "56796221-18c0-43ff-bcd9-0840ba3b2a61",
   "metadata": {},
   "source": [
    "# Cleaning Dataset"
   ]
  },
  {
   "cell_type": "code",
   "execution_count": 4,
   "id": "c3dd18f7-9539-4f77-acd1-dfc842807401",
   "metadata": {},
   "outputs": [
    {
     "name": "stdout",
     "output_type": "stream",
     "text": [
      "Data As Of                 0\n",
      "Start Date                 0\n",
      "End Date                   0\n",
      "Year                       0\n",
      "Month                      0\n",
      "State                      0\n",
      "Condition Group            0\n",
      "Condition                  0\n",
      "ICD10_codes                0\n",
      "Age Group                  0\n",
      "COVID-19 Deaths       150829\n",
      "Number of Mentions    146491\n",
      "Flag                  279731\n",
      "dtype: int64\n"
     ]
    }
   ],
   "source": [
    "# Check for missing values\n",
    "print(df_covid.isnull().sum())"
   ]
  },
  {
   "cell_type": "markdown",
   "id": "6dcb3876-da5e-4928-9600-1c2d7b31865b",
   "metadata": {},
   "source": [
    "## Imputing Missing Values"
   ]
  },
  {
   "cell_type": "code",
   "execution_count": 5,
   "id": "b7e7e37b-f2b2-4c18-a084-1333d8312718",
   "metadata": {},
   "outputs": [],
   "source": [
    "# Define a function to generate random integers between 1 and 9\n",
    "def random_1_to_9(series):\n",
    "    return series.apply(lambda x: np.random.randint(1, 10) if pd.isnull(x) else x)\n",
    "\n"
   ]
  },
  {
   "cell_type": "code",
   "execution_count": 6,
   "id": "595a95e7-a117-4da0-8920-bf885ba5d66b",
   "metadata": {},
   "outputs": [],
   "source": [
    "# Identify rows with suppression flag\n",
    "suppression_message = \"One or more data cells have counts between 1-9 and have been suppressed in accordance with NCHS confidentiality standards.\"\n",
    "suppressed_rows = df_covid[df_covid['Flag'] == suppression_message]"
   ]
  },
  {
   "cell_type": "code",
   "execution_count": 7,
   "id": "6692520c-e063-4dc9-8bac-c1c28f747ef8",
   "metadata": {},
   "outputs": [],
   "source": [
    "# Impute missing values with a random number between 1 and 9\n",
    "df_covid.loc[suppressed_rows.index, 'COVID-19 Deaths'] = random_1_to_9(suppressed_rows['COVID-19 Deaths'])\n",
    "df_covid.loc[suppressed_rows.index, 'Number of Mentions'] = random_1_to_9(suppressed_rows['Number of Mentions'])"
   ]
  },
  {
   "cell_type": "code",
   "execution_count": 8,
   "id": "dba6e331-68e8-497e-9674-e4a79e5c146b",
   "metadata": {},
   "outputs": [
    {
     "name": "stdout",
     "output_type": "stream",
     "text": [
      "Data As Of                 0\n",
      "Start Date                 0\n",
      "End Date                   0\n",
      "Year                       0\n",
      "Month                      0\n",
      "State                      0\n",
      "Condition Group            0\n",
      "Condition                  0\n",
      "ICD10_codes                0\n",
      "Age Group                  0\n",
      "COVID-19 Deaths            0\n",
      "Number of Mentions         0\n",
      "Flag                  279731\n",
      "dtype: int64\n"
     ]
    }
   ],
   "source": [
    "# Verify the changes\n",
    "print(df_covid.isnull().sum())"
   ]
  },
  {
   "cell_type": "code",
   "execution_count": 134,
   "id": "d0742084-ea6f-43a2-b0ca-b1cdf71dd97f",
   "metadata": {},
   "outputs": [],
   "source": [
    "# Convert 'Age Group' to numerical values\n",
    "age_mapping = {'0-4': 0, '5-14': 1, '15-24': 2, '25-34': 3, '35-44': 4, '45-54': 5, '55-64': 6, '65-74': 7, '75-84': 8, '85+': 9}\n",
    "df_covid['Age Group'] = df_covid['Age Group'].map(age_mapping)"
   ]
  },
  {
   "cell_type": "markdown",
   "id": "a6ec0ecb-ef1d-4d48-a273-8393b6a8c55a",
   "metadata": {},
   "source": [
    "# Exploring Data Visually trough Scatterplot"
   ]
  },
  {
   "cell_type": "code",
   "execution_count": 19,
   "id": "f796a528-2a0b-4767-9955-d42d3485449e",
   "metadata": {},
   "outputs": [
    {
     "data": {
      "image/png": "[encoded data removed]",
      "text/plain": [
       "<Figure size 640x480 with 1 Axes>"
      ]
     },
     "metadata": {},
     "output_type": "display_data"
    }
   ],
   "source": [
    "# scatterplot\n",
    "plt.scatter(df_covid['Number of Mentions'], df_covid['COVID-19 Deaths'])\n",
    "plt.xlabel('Number of Mentions')\n",
    "plt.ylabel('COVID-19 Deaths')\n",
    "plt.title('Scatterplot of Number of Mentions vs COVID-19 Deaths')\n",
    "plt.show()\n"
   ]
  },
  {
   "cell_type": "markdown",
   "id": "e922af56-3c0e-451d-b0ca-4cc3ee94c932",
   "metadata": {},
   "source": [
    "# Reshaping the variables into NumPy arrays"
   ]
  },
  {
   "cell_type": "code",
   "execution_count": 9,
   "id": "760647f1-f374-4724-abfc-c2504c1b7bc8",
   "metadata": {},
   "outputs": [],
   "source": [
    "# Define the independent variable (x) and the dependent variable (y)\n",
    "X = df_covid['Number of Mentions'].values.reshape(-1, 1)\n",
    "y = df_covid['COVID-19 Deaths'].values"
   ]
  },
  {
   "cell_type": "markdown",
   "id": "5c0710f5-62dc-4543-8f28-26533c20a22f",
   "metadata": {},
   "source": [
    "# Spliting the data into training and test sets"
   ]
  },
  {
   "cell_type": "code",
   "execution_count": 10,
   "id": "4cf82a27-6533-47a2-963a-860e50e5f2af",
   "metadata": {},
   "outputs": [],
   "source": [
    "# 70% training, 30% test\n",
    "X_train, X_test, y_train, y_test = train_test_split(X, y, test_size=0.3, random_state=18)"
   ]
  },
  {
   "cell_type": "markdown",
   "id": "a61140e4-8816-4028-be52-db609f50c6f5",
   "metadata": {},
   "source": [
    "# Runing a linear regression"
   ]
  },
  {
   "cell_type": "code",
   "execution_count": 16,
   "id": "c9431c01-4a48-4425-9453-05e8748f092d",
   "metadata": {},
   "outputs": [],
   "source": [
    "# Initialize and fit the model\n",
    "model = LinearRegression()\n",
    "model.fit(X_train_imputed, y_train)\n",
    "\n",
    "# Make predictions on the test set\n",
    "y_pred = model.predict(X_test_imputed)"
   ]
  },
  {
   "cell_type": "markdown",
   "id": "46f0f059-1c51-474e-899c-c59e839d7f8b",
   "metadata": {},
   "source": [
    "### There are some NaN values in X_test. So, first imputing it with mean"
   ]
  },
  {
   "cell_type": "code",
   "execution_count": 14,
   "id": "cd6136ef-0f43-4d51-93e8-447f62650b3f",
   "metadata": {},
   "outputs": [],
   "source": [
    "from sklearn.impute import SimpleImputer\n",
    "\n",
    "# Initialize SimpleImputer\n",
    "imputer = SimpleImputer(strategy='mean')\n",
    "\n",
    "# Fit the imputer on the training data and transform it\n",
    "X_train_imputed = imputer.fit_transform(X_train)\n",
    "\n",
    "# Fit the imputer on the test data and transform it\n",
    "X_test_imputed = imputer.transform(X_test)\n"
   ]
  },
  {
   "cell_type": "code",
   "execution_count": 15,
   "id": "69dd1646-c2eb-4743-aaf5-e3b07389d64f",
   "metadata": {},
   "outputs": [],
   "source": [
    "# Initialize and fit the model\n",
    "model = LinearRegression()\n",
    "model.fit(X_train_imputed, y_train)\n",
    "\n",
    "# Make predictions on the test set\n",
    "y_pred = model.predict(X_test_imputed)"
   ]
  },
  {
   "cell_type": "markdown",
   "id": "98756e29-deb6-4418-83c2-c9901dac9997",
   "metadata": {},
   "source": [
    "# Create a plot of the regression line"
   ]
  },
  {
   "cell_type": "code",
   "execution_count": 27,
   "id": "921b9ae9-69a6-4ef0-b7b7-4c763a20ef7b",
   "metadata": {},
   "outputs": [
    {
     "data": {
      "image/png": "[encoded data removed]",
      "text/plain": [
       "<Figure size 1000x600 with 1 Axes>"
      ]
     },
     "metadata": {},
     "output_type": "display_data"
    },
    {
     "data": {
      "text/plain": [
       "<Figure size 640x480 with 0 Axes>"
      ]
     },
     "metadata": {},
     "output_type": "display_data"
    }
   ],
   "source": [
    "# Plot actual vs predicted values to visualize model performance\n",
    "plt.figure(figsize=(10,6))\n",
    "plt.scatter(X_test, y_test, color='blue', label='Actual Data')\n",
    "plt.plot(X_test, y_pred, color='red', linewidth=2, label='Regression Line')\n",
    "plt.title('Regression Line on Test Set')\n",
    "plt.xlabel('Number of Mentions')\n",
    "plt.ylabel('COVID-19 Deaths')\n",
    "plt.legend()\n",
    "plt.show()\n",
    "\n",
    "# Export to the \"Visualizations\" folder\n",
    "path_p = r'C:\\Users\\Sanket\\Documents\\Achievement 6'\n",
    "file_name = os.path.join(path_p, 'Analysis', 'Visualisations', 'regression_line_test_set.png')\n",
    "plt.savefig(file_name)"
   ]
  },
  {
   "cell_type": "markdown",
   "id": "746d416b-474c-4003-918e-5d8496f53a98",
   "metadata": {},
   "source": [
    "The scatterplot and regression line visualization show a clear positive relationship between the \"Number of Mentions\" of a condition on death certificates and \"COVID-19 Deaths\".\r\n",
    "The regression line closely follows the data points, indicating a strong fit."
   ]
  },
  {
   "cell_type": "markdown",
   "id": "2e186338-103d-4c89-903b-fac92f08376b",
   "metadata": {},
   "source": [
    "# Checking model performance statistics"
   ]
  },
  {
   "cell_type": "code",
   "execution_count": 32,
   "id": "608bd21f-c8ca-4c6b-9693-62a5f5bfa292",
   "metadata": {},
   "outputs": [
    {
     "name": "stdout",
     "output_type": "stream",
     "text": [
      "Mean Squared Error: 66.73608438419116\n",
      "R2 Score: 0.9752034140900298\n"
     ]
    }
   ],
   "source": [
    "# Calculate the mean squared error (MSE) and R-squared score\n",
    "mse = mean_squared_error(y_test, y_pred)\n",
    "r2 = r2_score(y_test, y_pred)\n",
    "\n",
    "print(f'Mean Squared Error: {mse}')\n",
    "print(f'R2 Score: {r2}')"
   ]
  },
  {
   "cell_type": "markdown",
   "id": "a6f3756f-5fba-4a43-8dc3-f927010b451a",
   "metadata": {},
   "source": [
    "# Comparing predicted and actual values"
   ]
  },
  {
   "cell_type": "code",
   "execution_count": 33,
   "id": "91ff4997-fc42-45ef-82f5-519a803ad906",
   "metadata": {},
   "outputs": [
    {
     "name": "stdout",
     "output_type": "stream",
     "text": [
      "        Actual  Predicted\n",
      "0          0.0  -0.133094\n",
      "1         55.0  53.352842\n",
      "2          0.0  -0.133094\n",
      "3          0.0  -0.133094\n",
      "4          0.0  -0.133094\n",
      "...        ...        ...\n",
      "129163     8.0   8.312054\n",
      "129164     0.0  -0.133094\n",
      "129165     0.0  -0.133094\n",
      "129166     1.0   3.620305\n",
      "129167     0.0  -0.133094\n",
      "\n",
      "[129168 rows x 2 columns]\n"
     ]
    }
   ],
   "source": [
    "comparison_df = pd.DataFrame({'Actual': y_test, 'Predicted': y_pred})\n",
    "print(comparison_df)\n"
   ]
  },
  {
   "cell_type": "markdown",
   "id": "8570aa5d-a3fe-41c6-85cd-0629ebc4514d",
   "metadata": {},
   "source": [
    "### Thoughts on How Well the Model Performed\r\n",
    "The relatively low MSE of 66.75 suggests that the model's predictions are close to the actual values.\r\n",
    "A high R-squared score of 0.975 indicates that approximately 97.5% of the variance in \"COVID-19 Deaths\" can be explained by the \"Number of Mentions\" of conditions.\r\n",
    "Overall, the statistics indicate that this linear regression model is effective in predicting \"COVID-19 deaths\" based on the \"Number of Mentions\".tween the \"Covid 19 deaths\" and \"Age group”  variables.A single, straight regression line won’t be able to accurately predict anything.."
   ]
  },
  {
   "cell_type": "code",
   "execution_count": 30,
   "id": "221ab256-1012-4348-953c-5a11dc84a328",
   "metadata": {},
   "outputs": [
    {
     "data": {
      "text/plain": [
       "<Figure size 640x480 with 0 Axes>"
      ]
     },
     "metadata": {},
     "output_type": "display_data"
    }
   ],
   "source": [
    "# Save the plot to the specified folder\n",
    "plt.savefig(r'C:\\Users\\Sanket\\Documents\\Achievement 6\\Analysis\\Visualisations\\'Scatterplot of Age Group vs COVID-19 Deaths.png')\n"
   ]
  }
 ],
 "metadata": {
  "kernelspec": {
   "display_name": "Python 3 (ipykernel)",
   "language": "python",
   "name": "python3"
  },
  "language_info": {
   "codemirror_mode": {
    "name": "ipython",
    "version": 3
   },
   "file_extension": ".py",
   "mimetype": "text/x-python",
   "name": "python",
   "nbconvert_exporter": "python",
   "pygments_lexer": "ipython3",
   "version": "3.11.7"
  }
 },
 "nbformat": 4,
 "nbformat_minor": 5
}
